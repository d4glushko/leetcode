{
 "cells": [
  {
   "cell_type": "code",
   "execution_count": 1,
   "metadata": {},
   "outputs": [],
   "source": [
    "import contextlib\n",
    "\n",
    "from disjoint_sets.test import Test"
   ]
  },
  {
   "cell_type": "code",
   "execution_count": 2,
   "metadata": {},
   "outputs": [],
   "source": [
    "test = Test()\n",
    "\n",
    "with open(\"disjoint_set_output.txt\", \"w\", encoding='utf-8') as output:\n",
    "    output.seek(0)\n",
    "    with contextlib.redirect_stdout(output):\n",
    "        test.test()"
   ]
  }
 ],
 "metadata": {
  "interpreter": {
   "hash": "74444a2f0fbe95cf3740ef385f39dd9587763d099bc636f051592e9f2aeae94d"
  },
  "kernelspec": {
   "display_name": "Python 3.8.6 64-bit ('venv-leetcode')",
   "language": "python",
   "name": "python3"
  },
  "language_info": {
   "codemirror_mode": {
    "name": "ipython",
    "version": 3
   },
   "file_extension": ".py",
   "mimetype": "text/x-python",
   "name": "python",
   "nbconvert_exporter": "python",
   "pygments_lexer": "ipython3",
   "version": "3.8.6"
  },
  "orig_nbformat": 4
 },
 "nbformat": 4,
 "nbformat_minor": 2
}
